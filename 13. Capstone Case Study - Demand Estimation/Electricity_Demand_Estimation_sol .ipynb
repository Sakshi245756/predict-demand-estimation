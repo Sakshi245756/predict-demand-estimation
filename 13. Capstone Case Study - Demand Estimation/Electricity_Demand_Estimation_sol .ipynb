{
 "cells": [
  {
   "cell_type": "markdown",
   "id": "d0a7c03d-b684-45d4-9bc4-ecfc18a71e08",
   "metadata": {},
   "source": [
    "### Import all the Libraries"
   ]
  },
  {
   "cell_type": "code",
   "execution_count": 247,
   "id": "bc9bdab5-c48d-46a3-9cba-d82bb8e9dcf3",
   "metadata": {},
   "outputs": [],
   "source": [
    "import pandas as pd\n",
    "import numpy as np\n",
    "import seaborn as sns \n",
    "import matplotlib.pyplot as plt\n",
    "import warnings\n",
    "warnings.filterwarnings(\"ignore\")\n",
    "from statsmodels.tsa.stattools import adfuller\n",
    "from statsmodels.graphics.tsaplots import plot_acf, plot_pacf\n",
    "import statsmodels.api as sn\n",
    "from statsmodels.tsa.holtwinters import ExponentialSmoothing"
   ]
  },
  {
   "cell_type": "markdown",
   "id": "317ce44e-da49-4d37-8967-cd262b0df68a",
   "metadata": {},
   "source": [
    "### Import data file"
   ]
  },
  {
   "cell_type": "code",
   "execution_count": 248,
   "id": "7ba98dfe-f4d9-47ee-b94d-d986fc4048be",
   "metadata": {},
   "outputs": [
    {
     "data": {
      "text/html": [
       "<div>\n",
       "<style scoped>\n",
       "    .dataframe tbody tr th:only-of-type {\n",
       "        vertical-align: middle;\n",
       "    }\n",
       "\n",
       "    .dataframe tbody tr th {\n",
       "        vertical-align: top;\n",
       "    }\n",
       "\n",
       "    .dataframe thead th {\n",
       "        text-align: right;\n",
       "    }\n",
       "</style>\n",
       "<table border=\"1\" class=\"dataframe\">\n",
       "  <thead>\n",
       "    <tr style=\"text-align: right;\">\n",
       "      <th></th>\n",
       "      <th>DATE</th>\n",
       "      <th>Electricty_Consumption_in_TW</th>\n",
       "    </tr>\n",
       "  </thead>\n",
       "  <tbody>\n",
       "    <tr>\n",
       "      <th>0</th>\n",
       "      <td>1/1/1973</td>\n",
       "      <td>35.9728</td>\n",
       "    </tr>\n",
       "    <tr>\n",
       "      <th>1</th>\n",
       "      <td>2/1/1973</td>\n",
       "      <td>36.1334</td>\n",
       "    </tr>\n",
       "    <tr>\n",
       "      <th>2</th>\n",
       "      <td>3/1/1973</td>\n",
       "      <td>35.0625</td>\n",
       "    </tr>\n",
       "  </tbody>\n",
       "</table>\n",
       "</div>"
      ],
      "text/plain": [
       "       DATE  Electricty_Consumption_in_TW\n",
       "0  1/1/1973                       35.9728\n",
       "1  2/1/1973                       36.1334\n",
       "2  3/1/1973                       35.0625"
      ]
     },
     "execution_count": 248,
     "metadata": {},
     "output_type": "execute_result"
    }
   ],
   "source": [
    "df = pd.read_csv('Electricity Consumption.csv')\n",
    "df.head(3)"
   ]
  },
  {
   "cell_type": "code",
   "execution_count": 249,
   "id": "b7342e9b-f042-4f6c-9e96-42ce01053bb3",
   "metadata": {},
   "outputs": [
    {
     "data": {
      "text/plain": [
       "(561, 2)"
      ]
     },
     "execution_count": 249,
     "metadata": {},
     "output_type": "execute_result"
    }
   ],
   "source": [
    "df.shape"
   ]
  },
  {
   "cell_type": "code",
   "execution_count": 250,
   "id": "62820d04-beb5-425c-a7f9-449d57955d41",
   "metadata": {},
   "outputs": [
    {
     "name": "stdout",
     "output_type": "stream",
     "text": [
      "<class 'pandas.core.frame.DataFrame'>\n",
      "RangeIndex: 561 entries, 0 to 560\n",
      "Data columns (total 2 columns):\n",
      " #   Column                        Non-Null Count  Dtype  \n",
      "---  ------                        --------------  -----  \n",
      " 0   DATE                          561 non-null    object \n",
      " 1   Electricty_Consumption_in_TW  561 non-null    float64\n",
      "dtypes: float64(1), object(1)\n",
      "memory usage: 8.9+ KB\n"
     ]
    }
   ],
   "source": [
    "df.info()"
   ]
  },
  {
   "cell_type": "markdown",
   "id": "ae9960ac-9e18-4e40-9a8a-4e6e93096a74",
   "metadata": {},
   "source": [
    "### Identifying the missing values"
   ]
  },
  {
   "cell_type": "code",
   "execution_count": 251,
   "id": "402277ad-bda4-4a78-8fd9-dd6afd0e1b0f",
   "metadata": {},
   "outputs": [
    {
     "data": {
      "text/plain": [
       "DATE                            0\n",
       "Electricty_Consumption_in_TW    0\n",
       "dtype: int64"
      ]
     },
     "execution_count": 251,
     "metadata": {},
     "output_type": "execute_result"
    }
   ],
   "source": [
    "df.isnull().sum()"
   ]
  },
  {
   "cell_type": "markdown",
   "id": "2c2052ab-f204-4c7d-8f33-f33d33e1dda0",
   "metadata": {},
   "source": [
    "### Identifying the duplicated values"
   ]
  },
  {
   "cell_type": "code",
   "execution_count": 252,
   "id": "4a1dccd2-bee8-452a-b975-d368b1a73093",
   "metadata": {},
   "outputs": [
    {
     "data": {
      "text/plain": [
       "0"
      ]
     },
     "execution_count": 252,
     "metadata": {},
     "output_type": "execute_result"
    }
   ],
   "source": [
    "df.duplicated().sum()"
   ]
  },
  {
   "cell_type": "markdown",
   "id": "a838e0a2-5b76-4bf1-b33b-a2c5db2e82a9",
   "metadata": {},
   "source": [
    "### Converting the datatypes"
   ]
  },
  {
   "cell_type": "code",
   "execution_count": 253,
   "id": "cf9a79fc-773a-4b93-b872-54a9f3d75645",
   "metadata": {},
   "outputs": [],
   "source": [
    "df['DATE'] = pd.to_datetime(df['DATE'])"
   ]
  },
  {
   "cell_type": "code",
   "execution_count": 254,
   "id": "0d99f25a-aa6e-4e95-8d3e-13d938f9b4d3",
   "metadata": {},
   "outputs": [
    {
     "name": "stdout",
     "output_type": "stream",
     "text": [
      "<class 'pandas.core.frame.DataFrame'>\n",
      "RangeIndex: 561 entries, 0 to 560\n",
      "Data columns (total 2 columns):\n",
      " #   Column                        Non-Null Count  Dtype         \n",
      "---  ------                        --------------  -----         \n",
      " 0   DATE                          561 non-null    datetime64[ns]\n",
      " 1   Electricty_Consumption_in_TW  561 non-null    float64       \n",
      "dtypes: datetime64[ns](1), float64(1)\n",
      "memory usage: 8.9 KB\n"
     ]
    }
   ],
   "source": [
    "df.info()"
   ]
  },
  {
   "cell_type": "code",
   "execution_count": 255,
   "id": "12c01aaa-c0bf-41f6-85a8-c3b0ebb6b979",
   "metadata": {},
   "outputs": [
    {
     "data": {
      "text/html": [
       "<div>\n",
       "<style scoped>\n",
       "    .dataframe tbody tr th:only-of-type {\n",
       "        vertical-align: middle;\n",
       "    }\n",
       "\n",
       "    .dataframe tbody tr th {\n",
       "        vertical-align: top;\n",
       "    }\n",
       "\n",
       "    .dataframe thead th {\n",
       "        text-align: right;\n",
       "    }\n",
       "</style>\n",
       "<table border=\"1\" class=\"dataframe\">\n",
       "  <thead>\n",
       "    <tr style=\"text-align: right;\">\n",
       "      <th></th>\n",
       "      <th>DATE</th>\n",
       "      <th>Electricty_Consumption_in_TW</th>\n",
       "    </tr>\n",
       "  </thead>\n",
       "  <tbody>\n",
       "    <tr>\n",
       "      <th>0</th>\n",
       "      <td>1973-01-01</td>\n",
       "      <td>35.9728</td>\n",
       "    </tr>\n",
       "    <tr>\n",
       "      <th>1</th>\n",
       "      <td>1973-02-01</td>\n",
       "      <td>36.1334</td>\n",
       "    </tr>\n",
       "    <tr>\n",
       "      <th>2</th>\n",
       "      <td>1973-03-01</td>\n",
       "      <td>35.0625</td>\n",
       "    </tr>\n",
       "  </tbody>\n",
       "</table>\n",
       "</div>"
      ],
      "text/plain": [
       "        DATE  Electricty_Consumption_in_TW\n",
       "0 1973-01-01                       35.9728\n",
       "1 1973-02-01                       36.1334\n",
       "2 1973-03-01                       35.0625"
      ]
     },
     "execution_count": 255,
     "metadata": {},
     "output_type": "execute_result"
    }
   ],
   "source": [
    "df.head(3) #Here date in YMD format"
   ]
  },
  {
   "cell_type": "code",
   "execution_count": 256,
   "id": "1892bded-8a0c-472b-9307-fa59a23fbda4",
   "metadata": {},
   "outputs": [
    {
     "data": {
      "text/html": [
       "<div>\n",
       "<style scoped>\n",
       "    .dataframe tbody tr th:only-of-type {\n",
       "        vertical-align: middle;\n",
       "    }\n",
       "\n",
       "    .dataframe tbody tr th {\n",
       "        vertical-align: top;\n",
       "    }\n",
       "\n",
       "    .dataframe thead th {\n",
       "        text-align: right;\n",
       "    }\n",
       "</style>\n",
       "<table border=\"1\" class=\"dataframe\">\n",
       "  <thead>\n",
       "    <tr style=\"text-align: right;\">\n",
       "      <th></th>\n",
       "      <th>DATE</th>\n",
       "      <th>Electricty_Consumption_in_TW</th>\n",
       "    </tr>\n",
       "  </thead>\n",
       "  <tbody>\n",
       "    <tr>\n",
       "      <th>558</th>\n",
       "      <td>2019-07-01</td>\n",
       "      <td>122.1014</td>\n",
       "    </tr>\n",
       "    <tr>\n",
       "      <th>559</th>\n",
       "      <td>2019-08-01</td>\n",
       "      <td>121.7765</td>\n",
       "    </tr>\n",
       "    <tr>\n",
       "      <th>560</th>\n",
       "      <td>2019-09-01</td>\n",
       "      <td>109.7190</td>\n",
       "    </tr>\n",
       "  </tbody>\n",
       "</table>\n",
       "</div>"
      ],
      "text/plain": [
       "          DATE  Electricty_Consumption_in_TW\n",
       "558 2019-07-01                      122.1014\n",
       "559 2019-08-01                      121.7765\n",
       "560 2019-09-01                      109.7190"
      ]
     },
     "execution_count": 256,
     "metadata": {},
     "output_type": "execute_result"
    }
   ],
   "source": [
    "df.tail(3)"
   ]
  },
  {
   "cell_type": "code",
   "execution_count": 257,
   "id": "1ce8ac1e-8d63-4766-ba3c-624d425b46f3",
   "metadata": {},
   "outputs": [],
   "source": [
    "df['Year'] = df.DATE.dt.year"
   ]
  },
  {
   "cell_type": "code",
   "execution_count": 258,
   "id": "dd4ec504-a1c6-4fa2-be93-084c2ac34770",
   "metadata": {},
   "outputs": [
    {
     "data": {
      "text/plain": [
       "47"
      ]
     },
     "execution_count": 258,
     "metadata": {},
     "output_type": "execute_result"
    }
   ],
   "source": [
    "df.Year.nunique() #We have around 47 year data"
   ]
  },
  {
   "cell_type": "code",
   "execution_count": 259,
   "id": "3de29aa5-b648-4d60-b1a2-7c13ce740c92",
   "metadata": {},
   "outputs": [
    {
     "name": "stderr",
     "output_type": "stream",
     "text": [
      "No artists with labels found to put in legend.  Note that artists whose label start with an underscore are ignored when legend() is called with no argument.\n"
     ]
    },
    {
     "data": {
      "image/png": "[encoded data removed]",
      "text/plain": [
       "<Figure size 1200x600 with 1 Axes>"
      ]
     },
     "metadata": {},
     "output_type": "display_data"
    }
   ],
   "source": [
    "# Visualize the data\n",
    "plt.figure(figsize=(12, 6))\n",
    "sns.lineplot(df['Electricty_Consumption_in_TW'])\n",
    "plt.title('Monthly Electricity Consumption (1973 - 2019)')\n",
    "plt.xlabel('Date')\n",
    "plt.ylabel('Electricity Consumption (Trillion Watts)')\n",
    "plt.legend()\n",
    "plt.show() #So,this chart is representing that usage of electricity is increasing with time"
   ]
  },
  {
   "cell_type": "code",
   "execution_count": 313,
   "id": "cd2babcf-dd83-473c-81f0-05750dfbae72",
   "metadata": {},
   "outputs": [
    {
     "data": {
      "image/png": "[encoded data removed]",
      "text/plain": [
       "<Figure size 1200x600 with 1 Axes>"
      ]
     },
     "metadata": {},
     "output_type": "display_data"
    }
   ],
   "source": [
    "plt.figure(figsize=(12, 6))\n",
    "plt.plot(df[df['Year']==1973]['Electricty_Consumption_in_TW'].values, marker='o',label='1973')\n",
    "plt.plot(df[df['Year']==1974]['Electricty_Consumption_in_TW'].values, marker='o',label='1974')\n",
    "plt.plot(df[df['Year']==2018]['Electricty_Consumption_in_TW'].values, marker='o',label='2018')\n",
    "plt.plot(df[df['Year']==2019]['Electricty_Consumption_in_TW'].values, marker='o',label='2019')\n",
    "plt.legend()\n",
    "plt.show()"
   ]
  },
  {
   "cell_type": "code",
   "execution_count": 264,
   "id": "2553da94-0743-47d4-9dfc-61b9fb9b23c1",
   "metadata": {},
   "outputs": [],
   "source": [
    "dt_df = pd.date_range(start='1973-01-01', end='2020-01-01',freq='M')"
   ]
  },
  {
   "cell_type": "code",
   "execution_count": 265,
   "id": "aa23d346-1e6a-49ab-8e8d-86ffe05a17cc",
   "metadata": {},
   "outputs": [],
   "source": [
    "dt_df = pd.DataFrame(dt_df)"
   ]
  },
  {
   "cell_type": "code",
   "execution_count": 266,
   "id": "cc3ef6c9-8b53-43ed-9bc1-e54f35aefca4",
   "metadata": {},
   "outputs": [],
   "source": [
    "dt_df.columns = ['date']"
   ]
  },
  {
   "cell_type": "code",
   "execution_count": 267,
   "id": "202b1645-6141-4d04-9e33-b9a9abb840c2",
   "metadata": {},
   "outputs": [
    {
     "data": {
      "text/html": [
       "<div>\n",
       "<style scoped>\n",
       "    .dataframe tbody tr th:only-of-type {\n",
       "        vertical-align: middle;\n",
       "    }\n",
       "\n",
       "    .dataframe tbody tr th {\n",
       "        vertical-align: top;\n",
       "    }\n",
       "\n",
       "    .dataframe thead th {\n",
       "        text-align: right;\n",
       "    }\n",
       "</style>\n",
       "<table border=\"1\" class=\"dataframe\">\n",
       "  <thead>\n",
       "    <tr style=\"text-align: right;\">\n",
       "      <th></th>\n",
       "      <th>date</th>\n",
       "    </tr>\n",
       "  </thead>\n",
       "  <tbody>\n",
       "    <tr>\n",
       "      <th>0</th>\n",
       "      <td>1973-01-31</td>\n",
       "    </tr>\n",
       "    <tr>\n",
       "      <th>1</th>\n",
       "      <td>1973-02-28</td>\n",
       "    </tr>\n",
       "    <tr>\n",
       "      <th>2</th>\n",
       "      <td>1973-03-31</td>\n",
       "    </tr>\n",
       "  </tbody>\n",
       "</table>\n",
       "</div>"
      ],
      "text/plain": [
       "        date\n",
       "0 1973-01-31\n",
       "1 1973-02-28\n",
       "2 1973-03-31"
      ]
     },
     "execution_count": 267,
     "metadata": {},
     "output_type": "execute_result"
    }
   ],
   "source": [
    "dt_df.head(3) "
   ]
  },
  {
   "cell_type": "code",
   "execution_count": 268,
   "id": "1a5afb4f-538a-434d-9219-939fa9aa6a3b",
   "metadata": {},
   "outputs": [],
   "source": [
    "dt_df['date'] = dt_df['date'].apply(lambda x: '-'.join(str(x).split('-')[:-1]))"
   ]
  },
  {
   "cell_type": "code",
   "execution_count": 269,
   "id": "d2b1137f-8dfa-48b9-85f2-41b6d494cdc2",
   "metadata": {},
   "outputs": [],
   "source": [
    "dt_df['date'] = pd.to_datetime(dt_df['date'])"
   ]
  },
  {
   "cell_type": "code",
   "execution_count": 270,
   "id": "e9ee352b-2687-48d8-b1a6-54bbecf73060",
   "metadata": {},
   "outputs": [
    {
     "data": {
      "text/html": [
       "<div>\n",
       "<style scoped>\n",
       "    .dataframe tbody tr th:only-of-type {\n",
       "        vertical-align: middle;\n",
       "    }\n",
       "\n",
       "    .dataframe tbody tr th {\n",
       "        vertical-align: top;\n",
       "    }\n",
       "\n",
       "    .dataframe thead th {\n",
       "        text-align: right;\n",
       "    }\n",
       "</style>\n",
       "<table border=\"1\" class=\"dataframe\">\n",
       "  <thead>\n",
       "    <tr style=\"text-align: right;\">\n",
       "      <th></th>\n",
       "      <th>date</th>\n",
       "    </tr>\n",
       "  </thead>\n",
       "  <tbody>\n",
       "    <tr>\n",
       "      <th>0</th>\n",
       "      <td>1973-01-01</td>\n",
       "    </tr>\n",
       "    <tr>\n",
       "      <th>1</th>\n",
       "      <td>1973-02-01</td>\n",
       "    </tr>\n",
       "    <tr>\n",
       "      <th>2</th>\n",
       "      <td>1973-03-01</td>\n",
       "    </tr>\n",
       "  </tbody>\n",
       "</table>\n",
       "</div>"
      ],
      "text/plain": [
       "        date\n",
       "0 1973-01-01\n",
       "1 1973-02-01\n",
       "2 1973-03-01"
      ]
     },
     "execution_count": 270,
     "metadata": {},
     "output_type": "execute_result"
    }
   ],
   "source": [
    "dt_df.head(3)"
   ]
  },
  {
   "cell_type": "markdown",
   "id": "08bce668-0503-405e-98f5-43c4ae3b9214",
   "metadata": {},
   "source": [
    "## Merging data set"
   ]
  },
  {
   "cell_type": "code",
   "execution_count": 271,
   "id": "3248a30b-883f-428f-9111-99f828c32adf",
   "metadata": {},
   "outputs": [],
   "source": [
    "dt_df2 = dt_df.merge(df,left_on=['date'],right_on=['DATE'],how='left')"
   ]
  },
  {
   "cell_type": "markdown",
   "id": "c95d38cd-6f91-4f75-afdf-0e2f3732fe2b",
   "metadata": {},
   "source": [
    "### identifying the null values"
   ]
  },
  {
   "cell_type": "code",
   "execution_count": 272,
   "id": "fe5b332c-5b66-4b17-93fb-53e638d8a0a7",
   "metadata": {},
   "outputs": [
    {
     "data": {
      "text/plain": [
       "date                            0\n",
       "DATE                            3\n",
       "Electricty_Consumption_in_TW    3\n",
       "Year                            3\n",
       "dtype: int64"
      ]
     },
     "execution_count": 272,
     "metadata": {},
     "output_type": "execute_result"
    }
   ],
   "source": [
    "dt_df2.isnull().sum()"
   ]
  },
  {
   "cell_type": "code",
   "execution_count": 273,
   "id": "eea63ebf-1794-410b-b2bc-57d2ef9260de",
   "metadata": {},
   "outputs": [
    {
     "data": {
      "text/html": [
       "<div>\n",
       "<style scoped>\n",
       "    .dataframe tbody tr th:only-of-type {\n",
       "        vertical-align: middle;\n",
       "    }\n",
       "\n",
       "    .dataframe tbody tr th {\n",
       "        vertical-align: top;\n",
       "    }\n",
       "\n",
       "    .dataframe thead th {\n",
       "        text-align: right;\n",
       "    }\n",
       "</style>\n",
       "<table border=\"1\" class=\"dataframe\">\n",
       "  <thead>\n",
       "    <tr style=\"text-align: right;\">\n",
       "      <th></th>\n",
       "      <th>date</th>\n",
       "      <th>DATE</th>\n",
       "      <th>Electricty_Consumption_in_TW</th>\n",
       "      <th>Year</th>\n",
       "    </tr>\n",
       "  </thead>\n",
       "  <tbody>\n",
       "    <tr>\n",
       "      <th>561</th>\n",
       "      <td>2019-10-01</td>\n",
       "      <td>NaT</td>\n",
       "      <td>NaN</td>\n",
       "      <td>NaN</td>\n",
       "    </tr>\n",
       "    <tr>\n",
       "      <th>562</th>\n",
       "      <td>2019-11-01</td>\n",
       "      <td>NaT</td>\n",
       "      <td>NaN</td>\n",
       "      <td>NaN</td>\n",
       "    </tr>\n",
       "    <tr>\n",
       "      <th>563</th>\n",
       "      <td>2019-12-01</td>\n",
       "      <td>NaT</td>\n",
       "      <td>NaN</td>\n",
       "      <td>NaN</td>\n",
       "    </tr>\n",
       "  </tbody>\n",
       "</table>\n",
       "</div>"
      ],
      "text/plain": [
       "          date DATE  Electricty_Consumption_in_TW  Year\n",
       "561 2019-10-01  NaT                           NaN   NaN\n",
       "562 2019-11-01  NaT                           NaN   NaN\n",
       "563 2019-12-01  NaT                           NaN   NaN"
      ]
     },
     "execution_count": 273,
     "metadata": {},
     "output_type": "execute_result"
    }
   ],
   "source": [
    "dt_df2[dt_df2.DATE.isnull()] #Identifying missing value"
   ]
  },
  {
   "cell_type": "markdown",
   "id": "7daf0faa-e9d2-4198-80d3-3e1ca0dad2c8",
   "metadata": {},
   "source": [
    "### Checking which fill will work here backwordfill or forwardfill"
   ]
  },
  {
   "cell_type": "code",
   "execution_count": 274,
   "id": "cea09249-b4d4-485b-b8f7-95cc3ea57b4d",
   "metadata": {},
   "outputs": [
    {
     "data": {
      "text/html": [
       "<div>\n",
       "<style scoped>\n",
       "    .dataframe tbody tr th:only-of-type {\n",
       "        vertical-align: middle;\n",
       "    }\n",
       "\n",
       "    .dataframe tbody tr th {\n",
       "        vertical-align: top;\n",
       "    }\n",
       "\n",
       "    .dataframe thead th {\n",
       "        text-align: right;\n",
       "    }\n",
       "</style>\n",
       "<table border=\"1\" class=\"dataframe\">\n",
       "  <thead>\n",
       "    <tr style=\"text-align: right;\">\n",
       "      <th></th>\n",
       "      <th>date</th>\n",
       "      <th>DATE</th>\n",
       "      <th>Electricty_Consumption_in_TW</th>\n",
       "      <th>Year</th>\n",
       "    </tr>\n",
       "  </thead>\n",
       "  <tbody>\n",
       "    <tr>\n",
       "      <th>559</th>\n",
       "      <td>2019-08-01</td>\n",
       "      <td>2019-08-01</td>\n",
       "      <td>121.7765</td>\n",
       "      <td>2019.0</td>\n",
       "    </tr>\n",
       "    <tr>\n",
       "      <th>560</th>\n",
       "      <td>2019-09-01</td>\n",
       "      <td>2019-09-01</td>\n",
       "      <td>109.7190</td>\n",
       "      <td>2019.0</td>\n",
       "    </tr>\n",
       "    <tr>\n",
       "      <th>561</th>\n",
       "      <td>2019-10-01</td>\n",
       "      <td>NaT</td>\n",
       "      <td>NaN</td>\n",
       "      <td>NaN</td>\n",
       "    </tr>\n",
       "    <tr>\n",
       "      <th>562</th>\n",
       "      <td>2019-11-01</td>\n",
       "      <td>NaT</td>\n",
       "      <td>NaN</td>\n",
       "      <td>NaN</td>\n",
       "    </tr>\n",
       "    <tr>\n",
       "      <th>563</th>\n",
       "      <td>2019-12-01</td>\n",
       "      <td>NaT</td>\n",
       "      <td>NaN</td>\n",
       "      <td>NaN</td>\n",
       "    </tr>\n",
       "  </tbody>\n",
       "</table>\n",
       "</div>"
      ],
      "text/plain": [
       "          date       DATE  Electricty_Consumption_in_TW    Year\n",
       "559 2019-08-01 2019-08-01                      121.7765  2019.0\n",
       "560 2019-09-01 2019-09-01                      109.7190  2019.0\n",
       "561 2019-10-01        NaT                           NaN     NaN\n",
       "562 2019-11-01        NaT                           NaN     NaN\n",
       "563 2019-12-01        NaT                           NaN     NaN"
      ]
     },
     "execution_count": 274,
     "metadata": {},
     "output_type": "execute_result"
    }
   ],
   "source": [
    "dt_df2.iloc[559:] "
   ]
  },
  {
   "cell_type": "markdown",
   "id": "6ab53957-d3d7-4a91-ad00-e2bae03458ee",
   "metadata": {},
   "source": [
    "### Handling Missing Values in dataset"
   ]
  },
  {
   "cell_type": "code",
   "execution_count": 275,
   "id": "640deb5e-3619-4875-b151-ec88e2e8f97b",
   "metadata": {},
   "outputs": [],
   "source": [
    "dt_df2.fillna(method='ffill',inplace=True) "
   ]
  },
  {
   "cell_type": "code",
   "execution_count": 276,
   "id": "0fe79aa1-99ae-43dd-a615-6b5a98b5fa15",
   "metadata": {},
   "outputs": [
    {
     "data": {
      "text/html": [
       "<div>\n",
       "<style scoped>\n",
       "    .dataframe tbody tr th:only-of-type {\n",
       "        vertical-align: middle;\n",
       "    }\n",
       "\n",
       "    .dataframe tbody tr th {\n",
       "        vertical-align: top;\n",
       "    }\n",
       "\n",
       "    .dataframe thead th {\n",
       "        text-align: right;\n",
       "    }\n",
       "</style>\n",
       "<table border=\"1\" class=\"dataframe\">\n",
       "  <thead>\n",
       "    <tr style=\"text-align: right;\">\n",
       "      <th></th>\n",
       "      <th>date</th>\n",
       "      <th>DATE</th>\n",
       "      <th>Electricty_Consumption_in_TW</th>\n",
       "      <th>Year</th>\n",
       "    </tr>\n",
       "  </thead>\n",
       "  <tbody>\n",
       "    <tr>\n",
       "      <th>559</th>\n",
       "      <td>2019-08-01</td>\n",
       "      <td>2019-08-01</td>\n",
       "      <td>121.7765</td>\n",
       "      <td>2019.0</td>\n",
       "    </tr>\n",
       "    <tr>\n",
       "      <th>560</th>\n",
       "      <td>2019-09-01</td>\n",
       "      <td>2019-09-01</td>\n",
       "      <td>109.7190</td>\n",
       "      <td>2019.0</td>\n",
       "    </tr>\n",
       "    <tr>\n",
       "      <th>561</th>\n",
       "      <td>2019-10-01</td>\n",
       "      <td>2019-09-01</td>\n",
       "      <td>109.7190</td>\n",
       "      <td>2019.0</td>\n",
       "    </tr>\n",
       "    <tr>\n",
       "      <th>562</th>\n",
       "      <td>2019-11-01</td>\n",
       "      <td>2019-09-01</td>\n",
       "      <td>109.7190</td>\n",
       "      <td>2019.0</td>\n",
       "    </tr>\n",
       "    <tr>\n",
       "      <th>563</th>\n",
       "      <td>2019-12-01</td>\n",
       "      <td>2019-09-01</td>\n",
       "      <td>109.7190</td>\n",
       "      <td>2019.0</td>\n",
       "    </tr>\n",
       "  </tbody>\n",
       "</table>\n",
       "</div>"
      ],
      "text/plain": [
       "          date       DATE  Electricty_Consumption_in_TW    Year\n",
       "559 2019-08-01 2019-08-01                      121.7765  2019.0\n",
       "560 2019-09-01 2019-09-01                      109.7190  2019.0\n",
       "561 2019-10-01 2019-09-01                      109.7190  2019.0\n",
       "562 2019-11-01 2019-09-01                      109.7190  2019.0\n",
       "563 2019-12-01 2019-09-01                      109.7190  2019.0"
      ]
     },
     "execution_count": 276,
     "metadata": {},
     "output_type": "execute_result"
    }
   ],
   "source": [
    "dt_df2.iloc[559:]"
   ]
  },
  {
   "cell_type": "code",
   "execution_count": 277,
   "id": "266064ed-87cd-41c6-9647-2f5e014eaf27",
   "metadata": {},
   "outputs": [],
   "source": [
    "dt_df2 = dt_df2.loc[:,['date','Electricty_Consumption_in_TW']]"
   ]
  },
  {
   "cell_type": "markdown",
   "id": "1d94de71-d5bb-4813-ac66-cb0516203cf2",
   "metadata": {},
   "source": [
    "### Implementing Dicky Fuller Test"
   ]
  },
  {
   "cell_type": "code",
   "execution_count": 278,
   "id": "0b1f4e5f-b3d1-4cc1-ba10-84d536aa3903",
   "metadata": {},
   "outputs": [],
   "source": [
    "from statsmodels.tsa.stattools import adfuller"
   ]
  },
  {
   "cell_type": "code",
   "execution_count": 279,
   "id": "a8ac221e-51c5-45c2-b4d1-e4c65dedfa5f",
   "metadata": {},
   "outputs": [],
   "source": [
    "_,p_value,_,_,_,_ = adfuller(dt_df2['Electricty_Consumption_in_TW'],maxlag=1)"
   ]
  },
  {
   "cell_type": "code",
   "execution_count": 280,
   "id": "b593a4b8-102e-4be6-94ca-cd25f98b5cc5",
   "metadata": {},
   "outputs": [
    {
     "data": {
      "text/plain": [
       "2.6303596549759728e-06"
      ]
     },
     "execution_count": 280,
     "metadata": {},
     "output_type": "execute_result"
    }
   ],
   "source": [
    "p_value"
   ]
  },
  {
   "cell_type": "code",
   "execution_count": 281,
   "id": "f61abb77-c36a-465d-940e-ac53910bcd08",
   "metadata": {},
   "outputs": [
    {
     "name": "stdout",
     "output_type": "stream",
     "text": [
      "The time series is stationary\n"
     ]
    }
   ],
   "source": [
    "if p_value>0.05:\n",
    "    print('The time series is non-stationary')\n",
    "else:\n",
    "    print('The time series is stationary')"
   ]
  },
  {
   "cell_type": "code",
   "execution_count": 282,
   "id": "286acdc4-7c2d-43bd-93a0-98338b5dab55",
   "metadata": {},
   "outputs": [
    {
     "data": {
      "text/plain": [
       "(564, 2)"
      ]
     },
     "execution_count": 282,
     "metadata": {},
     "output_type": "execute_result"
    }
   ],
   "source": [
    "dt_df2.shape"
   ]
  },
  {
   "cell_type": "markdown",
   "id": "ff0ff287-b481-4cb2-accd-4355b2cb043d",
   "metadata": {},
   "source": [
    "### ACF : Auto Correlation Function\n",
    "### PACF : Partial Auto Correlation Function"
   ]
  },
  {
   "cell_type": "code",
   "execution_count": 283,
   "id": "0c0e0f5b-7ebd-484e-936f-51e4d145b401",
   "metadata": {},
   "outputs": [],
   "source": [
    "from statsmodels.graphics.tsaplots import plot_acf, plot_pacf\n",
    "import statsmodels.api as sn"
   ]
  },
  {
   "cell_type": "code",
   "execution_count": 284,
   "id": "739d5c4e-d5d7-4f67-8d6a-d2140469d1d4",
   "metadata": {},
   "outputs": [
    {
     "data": {
      "image/png": "[encoded data removed]",
      "text/plain": [
       "<Figure size 640x480 with 1 Axes>"
      ]
     },
     "metadata": {},
     "output_type": "display_data"
    }
   ],
   "source": [
    "## ACF PLOT\n",
    "fig = sn.graphics.tsa.plot_acf(dt_df2['Electricty_Consumption_in_TW'])"
   ]
  },
  {
   "cell_type": "code",
   "execution_count": 285,
   "id": "9de80ee2-7a14-4926-90ec-de854297b7b0",
   "metadata": {},
   "outputs": [],
   "source": [
    "q = 5"
   ]
  },
  {
   "cell_type": "code",
   "execution_count": 286,
   "id": "30db1eb9-175e-4e7c-beef-de11702ec0dc",
   "metadata": {},
   "outputs": [
    {
     "data": {
      "image/png": "[encoded data removed]",
      "text/plain": [
       "<Figure size 640x480 with 1 Axes>"
      ]
     },
     "metadata": {},
     "output_type": "display_data"
    }
   ],
   "source": [
    "## PACF PLOT\n",
    "fig = sn.graphics.tsa.plot_pacf(dt_df2['Electricty_Consumption_in_TW'])"
   ]
  },
  {
   "cell_type": "code",
   "execution_count": 287,
   "id": "9131459e-d247-42b0-ac98-41403b794306",
   "metadata": {},
   "outputs": [],
   "source": [
    "p = 8"
   ]
  },
  {
   "cell_type": "markdown",
   "id": "ba7786db-03e1-4048-916d-c039362c9c75",
   "metadata": {},
   "source": [
    "### Import ARIMA"
   ]
  },
  {
   "cell_type": "code",
   "execution_count": 288,
   "id": "4ebce8cd-68e7-42b5-99c7-b2d3ed270a44",
   "metadata": {},
   "outputs": [],
   "source": [
    "from statsmodels.tsa.arima.model import ARIMA"
   ]
  },
  {
   "cell_type": "code",
   "execution_count": 289,
   "id": "6caf1045-c627-48de-8e56-9c79fd190031",
   "metadata": {},
   "outputs": [],
   "source": [
    "arima = ARIMA(dt_df2['Electricty_Consumption_in_TW'],order = (p,0,q))"
   ]
  },
  {
   "cell_type": "code",
   "execution_count": 290,
   "id": "390ec5fc-c615-42cb-813b-d90bdf4aa2b6",
   "metadata": {},
   "outputs": [],
   "source": [
    "model = arima.fit()"
   ]
  },
  {
   "cell_type": "code",
   "execution_count": 291,
   "id": "1cf5a7b2-3d92-4dd2-943b-6119d6caa0aa",
   "metadata": {},
   "outputs": [],
   "source": [
    "arima_forecast = model.forecast(steps=24)"
   ]
  },
  {
   "cell_type": "code",
   "execution_count": 292,
   "id": "1a72cd2e-03b1-41b2-9cfd-3752eb90332a",
   "metadata": {},
   "outputs": [],
   "source": [
    "from sklearn.metrics import mean_squared_error, mean_absolute_percentage_error"
   ]
  },
  {
   "cell_type": "code",
   "execution_count": 293,
   "id": "9e44d3d9-5896-4297-a71f-bcf9d46b0070",
   "metadata": {},
   "outputs": [],
   "source": [
    "rmse = np.sqrt(mean_squared_error(dt_df2['Electricty_Consumption_in_TW'][-24:],arima_forecast))\n",
    "mape = mean_absolute_percentage_error(dt_df2['Electricty_Consumption_in_TW'][-24:],arima_forecast) * 100"
   ]
  },
  {
   "cell_type": "code",
   "execution_count": 294,
   "id": "036cceb6-0667-441d-87d3-960241424888",
   "metadata": {},
   "outputs": [
    {
     "data": {
      "text/plain": [
       "(6.857209631325384, 5.534890865173153)"
      ]
     },
     "execution_count": 294,
     "metadata": {},
     "output_type": "execute_result"
    }
   ],
   "source": [
    "rmse,mape"
   ]
  },
  {
   "cell_type": "markdown",
   "id": "eeda8cda-cd1e-4438-b4a7-561e9aec9cc4",
   "metadata": {},
   "source": [
    "### Import Exponential Smoothing"
   ]
  },
  {
   "cell_type": "code",
   "execution_count": 295,
   "id": "8027033c-b3f0-4061-b8ab-7403a92dbc94",
   "metadata": {},
   "outputs": [],
   "source": [
    "from statsmodels.tsa.holtwinters import ExponentialSmoothing"
   ]
  },
  {
   "cell_type": "code",
   "execution_count": 296,
   "id": "26a04331-a51c-45ff-bd7d-48b36949418e",
   "metadata": {},
   "outputs": [],
   "source": [
    "ets = ExponentialSmoothing(dt_df2['Electricty_Consumption_in_TW'])"
   ]
  },
  {
   "cell_type": "code",
   "execution_count": 297,
   "id": "7387c60a-0f53-4738-a629-fdfebb8f6a2b",
   "metadata": {},
   "outputs": [],
   "source": [
    "model1 = ets.fit()"
   ]
  },
  {
   "cell_type": "code",
   "execution_count": 298,
   "id": "4a712c65-d4f5-459a-b3ef-626c0e0e6dae",
   "metadata": {},
   "outputs": [],
   "source": [
    "ets_forecast = model1.forecast(steps=24)"
   ]
  },
  {
   "cell_type": "code",
   "execution_count": 299,
   "id": "01640c22-8ac3-4372-bfe2-3af1638e18f4",
   "metadata": {},
   "outputs": [],
   "source": [
    "rmse1 = np.sqrt(mean_squared_error(dt_df2['Electricty_Consumption_in_TW'][-24:],ets_forecast))\n",
    "mape1 = mean_absolute_percentage_error(dt_df2['Electricty_Consumption_in_TW'][-24:],ets_forecast) * 100"
   ]
  },
  {
   "cell_type": "code",
   "execution_count": 300,
   "id": "4737d323-37f1-4279-a2a4-f46d8dc2708f",
   "metadata": {},
   "outputs": [
    {
     "data": {
      "text/plain": [
       "(12.041444750734854, 10.004404163541475)"
      ]
     },
     "execution_count": 300,
     "metadata": {},
     "output_type": "execute_result"
    }
   ],
   "source": [
    "rmse1,mape1"
   ]
  },
  {
   "cell_type": "markdown",
   "id": "7a20edb2-0d9c-4f09-a438-a962b6d76b02",
   "metadata": {},
   "source": [
    "### Compare RMSE and MAPE to select the best model"
   ]
  },
  {
   "cell_type": "code",
   "execution_count": 301,
   "id": "c805b59a-6358-4f05-bf1d-599f1e9e214d",
   "metadata": {},
   "outputs": [
    {
     "name": "stdout",
     "output_type": "stream",
     "text": [
      "Selected Model: ARIMA\n"
     ]
    }
   ],
   "source": [
    "if rmse1 < rmse and mape1 < mape:\n",
    "    best_model = 'ETS'\n",
    "    final_forecast = ets_forecast\n",
    "else:\n",
    "    best_model = 'ARIMA'\n",
    "    final_forecast = arima_forecast\n",
    "\n",
    "print(f'Selected Model: {best_model}')"
   ]
  },
  {
   "cell_type": "markdown",
   "id": "b4b9de4d-f41e-4839-b0b2-cf4ce821b20d",
   "metadata": {},
   "source": [
    "### Electricity consumption for next 2 years"
   ]
  },
  {
   "cell_type": "code",
   "execution_count": 302,
   "id": "13175fd4-bd7e-42f9-bb15-a436914c6001",
   "metadata": {},
   "outputs": [],
   "source": [
    "demand_estimation = final_forecast.reset_index()"
   ]
  },
  {
   "cell_type": "code",
   "execution_count": 303,
   "id": "c579f60e-0f1b-408a-a6ad-a8c376e3c501",
   "metadata": {},
   "outputs": [],
   "source": [
    "demand_estimation = demand_estimation.loc[:,'predicted_mean'].reset_index()"
   ]
  },
  {
   "cell_type": "code",
   "execution_count": 304,
   "id": "8db21647-f03c-41ac-bef6-335d1b1d5a62",
   "metadata": {},
   "outputs": [],
   "source": [
    "date = pd.DataFrame(pd.date_range(start='2020-01-01', end='2022-01-01',freq='M'))"
   ]
  },
  {
   "cell_type": "code",
   "execution_count": 305,
   "id": "3d0405fb-9c5b-4f3b-9b9c-cbca9db2185c",
   "metadata": {},
   "outputs": [],
   "source": [
    "date.columns = ['Date']\n",
    "date['Date'] = date['Date'].apply(lambda x: '-'.join(str(x).split('-')[:-1]))\n",
    "date['Date'] = pd.to_datetime(date['Date'])"
   ]
  },
  {
   "cell_type": "code",
   "execution_count": 306,
   "id": "fcf378fd-45ea-4c08-9e10-2cdbee35f5cd",
   "metadata": {},
   "outputs": [],
   "source": [
    "date = date.reset_index()"
   ]
  },
  {
   "cell_type": "code",
   "execution_count": 307,
   "id": "7cfb8686-2353-4141-8d52-99edba73db1f",
   "metadata": {},
   "outputs": [],
   "source": [
    "demand_estimation = date.merge(demand_estimation,left_on=['index'],right_on=['index'],how='left')"
   ]
  },
  {
   "cell_type": "code",
   "execution_count": 308,
   "id": "c33ff042-2746-40ef-b183-2e36457b2682",
   "metadata": {},
   "outputs": [],
   "source": [
    "demand_estimation = demand_estimation.loc[:,['Date','predicted_mean']]\n",
    "demand_estimation = demand_estimation.rename(columns = {'predicted_mean':'Electricty_Consumption_Prediction'})"
   ]
  },
  {
   "cell_type": "code",
   "execution_count": 309,
   "id": "453b948e-235b-495c-a0bc-41945a4b9793",
   "metadata": {},
   "outputs": [
    {
     "data": {
      "text/html": [
       "<div>\n",
       "<style scoped>\n",
       "    .dataframe tbody tr th:only-of-type {\n",
       "        vertical-align: middle;\n",
       "    }\n",
       "\n",
       "    .dataframe tbody tr th {\n",
       "        vertical-align: top;\n",
       "    }\n",
       "\n",
       "    .dataframe thead th {\n",
       "        text-align: right;\n",
       "    }\n",
       "</style>\n",
       "<table border=\"1\" class=\"dataframe\">\n",
       "  <thead>\n",
       "    <tr style=\"text-align: right;\">\n",
       "      <th></th>\n",
       "      <th>Date</th>\n",
       "      <th>Electricty_Consumption_Prediction</th>\n",
       "    </tr>\n",
       "  </thead>\n",
       "  <tbody>\n",
       "    <tr>\n",
       "      <th>0</th>\n",
       "      <td>2020-01-01</td>\n",
       "      <td>113.732333</td>\n",
       "    </tr>\n",
       "    <tr>\n",
       "      <th>1</th>\n",
       "      <td>2020-02-01</td>\n",
       "      <td>105.716008</td>\n",
       "    </tr>\n",
       "    <tr>\n",
       "      <th>2</th>\n",
       "      <td>2020-03-01</td>\n",
       "      <td>95.720296</td>\n",
       "    </tr>\n",
       "    <tr>\n",
       "      <th>3</th>\n",
       "      <td>2020-04-01</td>\n",
       "      <td>91.314534</td>\n",
       "    </tr>\n",
       "    <tr>\n",
       "      <th>4</th>\n",
       "      <td>2020-05-01</td>\n",
       "      <td>96.651154</td>\n",
       "    </tr>\n",
       "    <tr>\n",
       "      <th>5</th>\n",
       "      <td>2020-06-01</td>\n",
       "      <td>107.468069</td>\n",
       "    </tr>\n",
       "    <tr>\n",
       "      <th>6</th>\n",
       "      <td>2020-07-01</td>\n",
       "      <td>117.359678</td>\n",
       "    </tr>\n",
       "    <tr>\n",
       "      <th>7</th>\n",
       "      <td>2020-08-01</td>\n",
       "      <td>116.467004</td>\n",
       "    </tr>\n",
       "    <tr>\n",
       "      <th>8</th>\n",
       "      <td>2020-09-01</td>\n",
       "      <td>110.408048</td>\n",
       "    </tr>\n",
       "    <tr>\n",
       "      <th>9</th>\n",
       "      <td>2020-10-01</td>\n",
       "      <td>104.271556</td>\n",
       "    </tr>\n",
       "    <tr>\n",
       "      <th>10</th>\n",
       "      <td>2020-11-01</td>\n",
       "      <td>105.811507</td>\n",
       "    </tr>\n",
       "    <tr>\n",
       "      <th>11</th>\n",
       "      <td>2020-12-01</td>\n",
       "      <td>110.606585</td>\n",
       "    </tr>\n",
       "    <tr>\n",
       "      <th>12</th>\n",
       "      <td>2021-01-01</td>\n",
       "      <td>113.797318</td>\n",
       "    </tr>\n",
       "    <tr>\n",
       "      <th>13</th>\n",
       "      <td>2021-02-01</td>\n",
       "      <td>108.203080</td>\n",
       "    </tr>\n",
       "    <tr>\n",
       "      <th>14</th>\n",
       "      <td>2021-03-01</td>\n",
       "      <td>99.737415</td>\n",
       "    </tr>\n",
       "    <tr>\n",
       "      <th>15</th>\n",
       "      <td>2021-04-01</td>\n",
       "      <td>93.967842</td>\n",
       "    </tr>\n",
       "    <tr>\n",
       "      <th>16</th>\n",
       "      <td>2021-05-01</td>\n",
       "      <td>98.576365</td>\n",
       "    </tr>\n",
       "    <tr>\n",
       "      <th>17</th>\n",
       "      <td>2021-06-01</td>\n",
       "      <td>107.952588</td>\n",
       "    </tr>\n",
       "    <tr>\n",
       "      <th>18</th>\n",
       "      <td>2021-07-01</td>\n",
       "      <td>116.059072</td>\n",
       "    </tr>\n",
       "    <tr>\n",
       "      <th>19</th>\n",
       "      <td>2021-08-01</td>\n",
       "      <td>114.500402</td>\n",
       "    </tr>\n",
       "    <tr>\n",
       "      <th>20</th>\n",
       "      <td>2021-09-01</td>\n",
       "      <td>108.044013</td>\n",
       "    </tr>\n",
       "    <tr>\n",
       "      <th>21</th>\n",
       "      <td>2021-10-01</td>\n",
       "      <td>101.933311</td>\n",
       "    </tr>\n",
       "    <tr>\n",
       "      <th>22</th>\n",
       "      <td>2021-11-01</td>\n",
       "      <td>104.132402</td>\n",
       "    </tr>\n",
       "    <tr>\n",
       "      <th>23</th>\n",
       "      <td>2021-12-01</td>\n",
       "      <td>109.875955</td>\n",
       "    </tr>\n",
       "  </tbody>\n",
       "</table>\n",
       "</div>"
      ],
      "text/plain": [
       "         Date  Electricty_Consumption_Prediction\n",
       "0  2020-01-01                         113.732333\n",
       "1  2020-02-01                         105.716008\n",
       "2  2020-03-01                          95.720296\n",
       "3  2020-04-01                          91.314534\n",
       "4  2020-05-01                          96.651154\n",
       "5  2020-06-01                         107.468069\n",
       "6  2020-07-01                         117.359678\n",
       "7  2020-08-01                         116.467004\n",
       "8  2020-09-01                         110.408048\n",
       "9  2020-10-01                         104.271556\n",
       "10 2020-11-01                         105.811507\n",
       "11 2020-12-01                         110.606585\n",
       "12 2021-01-01                         113.797318\n",
       "13 2021-02-01                         108.203080\n",
       "14 2021-03-01                          99.737415\n",
       "15 2021-04-01                          93.967842\n",
       "16 2021-05-01                          98.576365\n",
       "17 2021-06-01                         107.952588\n",
       "18 2021-07-01                         116.059072\n",
       "19 2021-08-01                         114.500402\n",
       "20 2021-09-01                         108.044013\n",
       "21 2021-10-01                         101.933311\n",
       "22 2021-11-01                         104.132402\n",
       "23 2021-12-01                         109.875955"
      ]
     },
     "execution_count": 309,
     "metadata": {},
     "output_type": "execute_result"
    }
   ],
   "source": [
    "demand_estimation"
   ]
  },
  {
   "cell_type": "code",
   "execution_count": 246,
   "id": "19490ec9-392d-4fe9-82b0-629c9303001f",
   "metadata": {},
   "outputs": [],
   "source": [
    "## To save the file\n",
    "demand_estimation.to_csv('demand_estimation_new.csv', index = False)"
   ]
  },
  {
   "cell_type": "code",
   "execution_count": 311,
   "id": "435f272e-093b-4f27-a7c0-2eec2a17d3cf",
   "metadata": {},
   "outputs": [],
   "source": [
    "demand_estimation['Year'] = demand_estimation['Date'].dt.year"
   ]
  },
  {
   "cell_type": "code",
   "execution_count": 312,
   "id": "348d86bc-f7ce-40bb-8453-54f8478fd8b5",
   "metadata": {},
   "outputs": [
    {
     "data": {
      "image/png": "[encoded data removed]",
      "text/plain": [
       "<Figure size 640x480 with 1 Axes>"
      ]
     },
     "metadata": {},
     "output_type": "display_data"
    }
   ],
   "source": [
    "##visualize the predict estimation\n",
    "\n",
    "plt.plot(demand_estimation[demand_estimation['Year']==2020]['Electricty_Consumption_Prediction'].values, marker='o',label='2020')\n",
    "plt.plot(demand_estimation[demand_estimation['Year']==2021]['Electricty_Consumption_Prediction'].values, marker='o',label='2021')\n",
    "plt.legend()\n",
    "plt.show()"
   ]
  },
  {
   "cell_type": "code",
   "execution_count": null,
   "id": "36c0601e-8e6b-4354-808e-e74240be38fa",
   "metadata": {},
   "outputs": [],
   "source": []
  }
 ],
 "metadata": {
  "kernelspec": {
   "display_name": "Python 3 (ipykernel)",
   "language": "python",
   "name": "python3"
  },
  "language_info": {
   "codemirror_mode": {
    "name": "ipython",
    "version": 3
   },
   "file_extension": ".py",
   "mimetype": "text/x-python",
   "name": "python",
   "nbconvert_exporter": "python",
   "pygments_lexer": "ipython3",
   "version": "3.11.7"
  }
 },
 "nbformat": 4,
 "nbformat_minor": 5
}
